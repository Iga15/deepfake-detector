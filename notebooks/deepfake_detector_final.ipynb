{
 "cells": [
  {
   "cell_type": "code",
   "execution_count": null,
   "id": "903017d6-0574-4c7b-afc1-78392561e7cd",
   "metadata": {},
   "outputs": [],
   "source": [
    "# ---- Global config & paths ----\n",
    "import pathlib, yaml\n",
    "\n",
    "ROOT = pathlib.Path().resolve()\n",
    "CFG = yaml.safe_load(open(parent.ROOT / \"configs\" / \"base.yaml\"))\n",
    "\n",
    "DATA_DIR = ROOT / CFG[\"paths\"][\"data_dir\"]\n",
    "WEIGHTS_DIR = ROOT / CFG[\"paths\"][\"weights_dir\"]\n",
    "WEIGHTS_DIR.mkdir(parents=True, exist_ok=True)\n",
    "WEIGHTS_PATH = WEIGHTS_DIR / CFG[\"paths\"][\"weights_name\"]\n",
    "\n",
    "RUNS_DIR = ROOT / CFG[\"paths\"][\"runs_dir\"]\n",
    "RUNS_DIR.mkdir(parents=True, exist_ok=True)\n",
    "\n",
    "print(\"DATA_DIR:\", DATA_DIR)\n",
    "print(\"WEIGHTS_PATH:\", WEIGHTS_PATH)\n",
    "print(\"RUNS_DIR:\", RUNS_DIR)"
   ]
  },
  {
   "cell_type": "markdown",
   "id": "8ca2fb51-5163-41e1-ad9d-1aafb3fc9acb",
   "metadata": {},
   "source": [
    "IMPORTS, LOAD MODEL, LANDMARKS:\n",
    "--------------"
   ]
  },
  {
   "cell_type": "code",
   "execution_count": 1,
   "id": "c8333368-0be4-4615-bda7-ad2fb02ae8a7",
   "metadata": {},
   "outputs": [],
   "source": [
    "import mediapipe as mp\n",
    "import cv2\n",
    "import numpy as np\n",
    "import os\n",
    "from tensorflow.keras.models import load_model"
   ]
  },
  {
   "cell_type": "code",
   "execution_count": 2,
   "id": "966a0e1b-2689-409b-8aef-f92ea2261567",
   "metadata": {},
   "outputs": [],
   "source": [
    "selected_indices = [0, 4, 9, 10, 22, 24, 33, 43, 44, 46, 50, 54, 55, 58, 64, 70, 105, 107, 110, 112, 127, 130, 149, 175, 205, 239, 252, 254, 263, 273, 274, 276, 280, 284, 285, 288, 294, 300, 334, 336, 339, 341, 356, 359, 400, 425, 459, 468, 473]"
   ]
  },
  {
   "cell_type": "code",
   "execution_count": 2,
   "id": "0511d33a-1227-4a0d-86e9-48dd0ab3bcd7",
   "metadata": {},
   "outputs": [
    {
     "name": "stderr",
     "output_type": "stream",
     "text": [
      "WARNING:absl:At this time, the v2.11+ optimizer `tf.keras.optimizers.Adam` runs slowly on M1/M2 Macs, please use the legacy Keras optimizer instead, located at `tf.keras.optimizers.legacy.Adam`.\n",
      "WARNING:absl:There is a known slowdown when using v2.11+ Keras optimizers on M1/M2 Macs. Falling back to the legacy Keras optimizer, i.e., `tf.keras.optimizers.legacy.Adam`.\n"
     ]
    },
    {
     "name": "stdout",
     "output_type": "stream",
     "text": [
      "WARNING:tensorflow:Error in loading the saved optimizer state. As a result, your model is starting with a freshly initialized optimizer.\n"
     ]
    },
    {
     "name": "stderr",
     "output_type": "stream",
     "text": [
      "WARNING:tensorflow:Error in loading the saved optimizer state. As a result, your model is starting with a freshly initialized optimizer.\n"
     ]
    }
   ],
   "source": [
    "model = load_model(str(WEIGHTS_PATH))"
   ]
  },
  {
   "cell_type": "markdown",
   "id": "683be6d7-89c2-4d7c-90e1-73cd0d5dfa86",
   "metadata": {},
   "source": [
    "DEEPFAKE DETECTOR:\n",
    "-------------"
   ]
  },
  {
   "cell_type": "code",
   "execution_count": 6,
   "id": "90017ea6-0044-4065-a0d8-533a05644bf9",
   "metadata": {},
   "outputs": [
    {
     "name": "stderr",
     "output_type": "stream",
     "text": [
      "I0000 00:00:1717606065.610630 2422624 gl_context.cc:357] GL version: 2.1 (2.1 Metal - 88), renderer: Apple M1\n",
      "I0000 00:00:1717606065.623817 2422624 gl_context.cc:357] GL version: 2.1 (2.1 Metal - 88), renderer: Apple M1\n"
     ]
    }
   ],
   "source": [
    "mp_face_detection = mp.solutions.face_detection\n",
    "mp_face_mesh = mp.solutions.face_mesh\n",
    "face_detection = mp_face_detection.FaceDetection(min_detection_confidence=0.5)\n",
    "face_mesh = mp_face_mesh.FaceMesh(static_image_mode=True, refine_landmarks=True)\n",
    "\n",
    "\n",
    "def predict_faces(image_path, model, selected_indices):\n",
    "    image_path = str(DATA_DIR / image_path) if not os.path.isabs(image_path) else image_path\n",
    "    image = cv2.imread(image_path)\n",
    "    if image is None:\n",
    "        print(\"Error: Image not found.\")\n",
    "        return None\n",
    "\n",
    "    height, width, _ = image.shape\n",
    "    image_rgb = cv2.cvtColor(image, cv2.COLOR_BGR2RGB)\n",
    "    detection_results = face_detection.process(image_rgb)\n",
    "\n",
    "    predictions = []\n",
    "\n",
    "    if detection_results.detections:\n",
    "        for detection in detection_results.detections:\n",
    "            box = detection.location_data.relative_bounding_box\n",
    "            x, y, w, h = (int(box.xmin * width), int(box.ymin * height),\n",
    "                          int(box.width * width), int(box.height * height))\n",
    "\n",
    "            cropped_face = image[max(y, 0):min(y + h, height),\n",
    "                                 max(x, 0):min(x + w, width)]\n",
    "            cropped_face_rgb = cv2.cvtColor(cropped_face, cv2.COLOR_BGR2RGB)\n",
    "            resized_face = cv2.resize(cropped_face_rgb, (256, 256))\n",
    "\n",
    "            mesh_results = face_mesh.process(resized_face)\n",
    "            if mesh_results.multi_face_landmarks:\n",
    "                for landmarks in mesh_results.multi_face_landmarks:\n",
    "                    landmark_array = np.array([(lm.x, lm.y, lm.z) for lm in landmarks.landmark])\n",
    "                    selected_landmarks = landmark_array[selected_indices]\n",
    "\n",
    "                    if selected_landmarks.shape[0] != 49:\n",
    "                        print(\"Error: Could not extract the required number of landmarks.\")\n",
    "                        continue\n",
    "\n",
    "                    # Add batch dimension\n",
    "                    resized_face_batch = np.expand_dims(resized_face, axis=0)\n",
    "                    selected_landmarks_batch = np.expand_dims(selected_landmarks, axis=0)\n",
    "\n",
    "                    # Prepare input for the model and predict\n",
    "                    prediction = model.predict([resized_face_batch, selected_landmarks_batch])\n",
    "                    label = \"Real\" if prediction < 0.5 else \"Fake\"\n",
    "                    predictions.append((x, y, w, h, label))\n",
    "            else:\n",
    "                print(\"Error: Could not extract any landmarks.\")\n",
    "\n",
    "    return predictions\n"
   ]
  },
  {
   "cell_type": "code",
   "execution_count": null,
   "id": "571cc443-082a-4e79-9b29-befde5ad154e",
   "metadata": {},
   "outputs": [],
   "source": [
    "predictions = predict_faces(\"two_faces_test.jpg\", model, selected_indices)"
   ]
  }
 ],
 "metadata": {
  "kernelspec": {
   "display_name": "Python 3 (ipykernel)",
   "language": "python",
   "name": "python3"
  },
  "language_info": {
   "codemirror_mode": {
    "name": "ipython",
    "version": 3
   },
   "file_extension": ".py",
   "mimetype": "text/x-python",
   "name": "python",
   "nbconvert_exporter": "python",
   "pygments_lexer": "ipython3",
   "version": "3.11.5"
  }
 },
 "nbformat": 4,
 "nbformat_minor": 5
}
